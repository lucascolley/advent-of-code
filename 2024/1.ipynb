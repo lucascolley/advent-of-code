{
 "cells": [
  {
   "cell_type": "markdown",
   "id": "399e1064-ac7f-456f-9b6b-a152cf43b4ad",
   "metadata": {},
   "source": [
    "You haven't even left yet and the group of Elvish Senior Historians has already hit a problem: their list of locations to check is currently empty. Eventually, someone decides that the best place to check first would be the Chief Historian's office.\n",
    "\n",
    "Upon pouring into the office, everyone confirms that the Chief Historian is indeed nowhere to be found. Instead, the Elves discover an assortment of notes and lists of historically significant locations! This seems to be the planning the Chief Historian was doing before he left. Perhaps these notes can be used to determine which locations to search?\n",
    "\n",
    "Throughout the Chief's office, the historically significant locations are listed not by name but by a unique number called the location ID. To make sure they don't miss anything, The Historians split into two groups, each searching the office and trying to create their own complete list of location IDs.\n",
    "\n",
    "There's just one problem: by holding the two lists up side by side (your puzzle input), it quickly becomes clear that the lists aren't very similar. Maybe you can help The Historians reconcile their lists?\n",
    "\n",
    "For example:\n",
    "\n",
    "3   4\n",
    "\n",
    "4   3\n",
    "\n",
    "2   5\n",
    "\n",
    "1   3\n",
    "\n",
    "3   9\n",
    "\n",
    "3   3\n",
    "\n",
    "Maybe the lists are only off by a small amount! To find out, pair up the numbers and measure how far apart they are. Pair up the smallest number in the left list with the smallest number in the right list, then the second-smallest left number with the second-smallest right number, and so on.\n",
    "\n",
    "Within each pair, figure out how far apart the two numbers are; you'll need to add up all of those distances. For example, if you pair up a 3 from the left list with a 7 from the right list, the distance apart is 4; if you pair up a 9 with a 3, the distance apart is 6.\n",
    "\n",
    "In the example list above, the pairs and distances would be as follows:\n",
    "\n",
    "- The smallest number in the left list is 1, and the smallest number in the right list is 3. The distance between them is 2.\n",
    "- The second-smallest number in the left list is 2, and the second-smallest number in the right list is another 3. The distance between them is 1.\n",
    "- The third-smallest number in both lists is 3, so the distance between them is 0.\n",
    "- The next numbers to pair up are 3 and 4, a distance of 1.\n",
    "- The fifth-smallest numbers in each list are 3 and 5, a distance of 2.\n",
    "- Finally, the largest number in the left list is 4, while the largest number in the right list is 9; these are a distance 5 apart.\n",
    "\n",
    "To find the total distance between the left list and the right list, add up the distances between all of the pairs you found. In the example above, this is 2 + 1 + 0 + 1 + 2 + 5, a total distance of 11!\n",
    "\n",
    "Your actual left and right lists contain many location IDs. What is the total distance between your lists?"
   ]
  },
  {
   "cell_type": "code",
   "execution_count": 8,
   "id": "50bb7356-0e52-4461-ae0e-880b529963b5",
   "metadata": {},
   "outputs": [],
   "source": [
    "import scipy, numpy as np"
   ]
  },
  {
   "cell_type": "code",
   "execution_count": 18,
   "id": "bf5effb8-5839-4c72-afe1-d659cc9fe3c4",
   "metadata": {},
   "outputs": [],
   "source": [
    "# read input into 2 lists\n",
    "with open(\"input/1.txt\") as f:\n",
    "    input = np.asarray(list(map(str.split, f.readlines())), dtype=np.int64)\n",
    "    list_1, list_2 = input[:, 0], input[:, 1]"
   ]
  },
  {
   "cell_type": "code",
   "execution_count": 21,
   "id": "6cfaba71-562b-4b8d-a2a4-6e463fbc7191",
   "metadata": {},
   "outputs": [],
   "source": [
    "# sort both lists\n",
    "list_1 = np.sort(list_1)\n",
    "list_2 = np.sort(list_2)"
   ]
  },
  {
   "cell_type": "code",
   "execution_count": 24,
   "id": "f0973f7d-1b08-4c1f-af37-f63f260c0008",
   "metadata": {},
   "outputs": [],
   "source": [
    "# find 1-norm Minkowski distance\n",
    "total_distance = int(scipy.spatial.distance.minkowski(list_1, list_2, p=1))"
   ]
  },
  {
   "cell_type": "code",
   "execution_count": 25,
   "id": "7a35be78-0d9b-4849-80c5-0acbb9c9e5cc",
   "metadata": {},
   "outputs": [
    {
     "data": {
      "text/plain": [
       "1189304"
      ]
     },
     "execution_count": 25,
     "metadata": {},
     "output_type": "execute_result"
    }
   ],
   "source": [
    "total_distance"
   ]
  }
 ],
 "metadata": {
  "kernelspec": {
   "display_name": "Python 3 (ipykernel)",
   "language": "python",
   "name": "python3"
  },
  "language_info": {
   "codemirror_mode": {
    "name": "ipython",
    "version": 3
   },
   "file_extension": ".py",
   "mimetype": "text/x-python",
   "name": "python",
   "nbconvert_exporter": "python",
   "pygments_lexer": "ipython3",
   "version": "3.13.1"
  }
 },
 "nbformat": 4,
 "nbformat_minor": 5
}
