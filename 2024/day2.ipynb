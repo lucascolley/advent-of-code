{
 "cells": [
  {
   "cell_type": "markdown",
   "id": "adebf49a-5981-4ca8-a4dc-011ce951543f",
   "metadata": {},
   "source": [
    "# Day 2\n",
    "## Star 1\n",
    "\n",
    "Fortunately, the first location The Historians want to search isn't a long walk from the Chief Historian's office.\n",
    "\n",
    "While the Red-Nosed Reindeer nuclear fusion/fission plant appears to contain no sign of the Chief Historian, the engineers there run up to you as soon as they see you. Apparently, they still talk about the time Rudolph was saved through molecular synthesis from a single electron.\n",
    "\n",
    "They're quick to add that - since you're already here - they'd really appreciate your help analyzing some unusual data from the Red-Nosed reactor. You turn to check if The Historians are waiting for you, but they seem to have already divided into groups that are currently searching every corner of the facility. You offer to help with the unusual data.\n",
    "\n",
    "The unusual data (your puzzle input) consists of many reports, one report per line. Each report is a list of numbers called levels that are separated by spaces. For example:\n",
    "\n",
    "```\n",
    "7 6 4 2 1\n",
    "1 2 7 8 9\n",
    "9 7 6 2 1\n",
    "1 3 2 4 5\n",
    "8 6 4 4 1\n",
    "1 3 6 7 9\n",
    "```\n",
    "\n",
    "This example data contains six reports each containing five levels.\n",
    "\n",
    "The engineers are trying to figure out which reports are safe. The Red-Nosed reactor safety systems can only tolerate levels that are either gradually increasing or gradually decreasing. So, a report only counts as safe if both of the following are true:\n",
    "\n",
    "- The levels are either all increasing or all decreasing.\n",
    "- Any two adjacent levels differ by at least one and at most three.\n",
    "\n",
    "In the example above, the reports can be found safe or unsafe by checking those rules:\n",
    "\n",
    "```\n",
    "7 6 4 2 1: Safe because the levels are all decreasing by 1 or 2.\n",
    "1 2 7 8 9: Unsafe because 2 7 is an increase of 5.\n",
    "9 7 6 2 1: Unsafe because 6 2 is a decrease of 4.\n",
    "1 3 2 4 5: Unsafe because 1 3 is increasing but 3 2 is decreasing.\n",
    "8 6 4 4 1: Unsafe because 4 4 is neither an increase or a decrease.\n",
    "1 3 6 7 9: Safe because the levels are all increasing by 1, 2, or 3.\n",
    "```\n",
    "\n",
    "So, in this example, 2 reports are safe.\n",
    "\n",
    "Analyze the unusual data from the engineers. How many reports are safe?"
   ]
  },
  {
   "cell_type": "code",
   "execution_count": 2,
   "id": "f7ca60a4-83c1-4fae-a248-176ebbc3d697",
   "metadata": {},
   "outputs": [],
   "source": [
    "import scipy, numpy as np"
   ]
  },
  {
   "cell_type": "code",
   "execution_count": 14,
   "id": "70981c77-f637-4ad1-9416-b04757515349",
   "metadata": {},
   "outputs": [],
   "source": [
    "# read input\n",
    "with open(\"input/2.txt\") as f:\n",
    "    reports = list(map(str.split, f.readlines()))"
   ]
  },
  {
   "cell_type": "code",
   "execution_count": 33,
   "id": "29b8893d-1a90-4747-9196-29182732d313",
   "metadata": {},
   "outputs": [],
   "source": [
    "def issafe(report):\n",
    "    differences = np.diff(np.asarray(report, dtype=np.int64))\n",
    "    safe = (\n",
    "        (np.all(differences > 0) or np.all(differences < 0))\n",
    "        and np.all(np.abs(differences) <= 3)\n",
    "    )\n",
    "    return safe"
   ]
  },
  {
   "cell_type": "code",
   "execution_count": 35,
   "id": "f24e8498-6773-4e62-8d8c-21e03084f1d8",
   "metadata": {},
   "outputs": [
    {
     "data": {
      "text/plain": [
       "282"
      ]
     },
     "execution_count": 35,
     "metadata": {},
     "output_type": "execute_result"
    }
   ],
   "source": [
    "num_safe = np.sum(list(map(issafe, reports)))\n",
    "int(num_safe)"
   ]
  }
 ],
 "metadata": {
  "kernelspec": {
   "display_name": "Python 3 (ipykernel)",
   "language": "python",
   "name": "python3"
  },
  "language_info": {
   "codemirror_mode": {
    "name": "ipython",
    "version": 3
   },
   "file_extension": ".py",
   "mimetype": "text/x-python",
   "name": "python",
   "nbconvert_exporter": "python",
   "pygments_lexer": "ipython3",
   "version": "3.13.1"
  }
 },
 "nbformat": 4,
 "nbformat_minor": 5
}
